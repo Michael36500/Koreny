{
 "cells": [
  {
   "cell_type": "code",
   "execution_count": 93,
   "metadata": {},
   "outputs": [],
   "source": [
    "# importy\n",
    "import cv2\n",
    "import cupy as np\n",
    "import numpy\n",
    "import os\n",
    "from matplotlib import pyplot as plt\n",
    "from tqdm import tqdm\n",
    "import time"
   ]
  },
  {
   "cell_type": "code",
   "execution_count": 94,
   "metadata": {},
   "outputs": [],
   "source": [
    "# najde všechny soubory v IN složce, aby se mohl loopnout\n",
    "inputs_jpg = os.listdir(\"in/\")\n",
    "inputs = []\n",
    "for a in inputs_jpg:\n",
    "    if a[0] == \"X\":\n",
    "        continue\n",
    "    l = len(a)\n",
    "    short = a[:l - 4]\n",
    "    inputs.append(short)\n"
   ]
  },
  {
   "cell_type": "code",
   "execution_count": 95,
   "metadata": {},
   "outputs": [],
   "source": [
    "# příprava loopu\n",
    "for actual_img in inputs:\n",
    "    break\n",
    "# print(actual_img)\n",
    "actual_img = \"2022_02_23_12_50_13\""
   ]
  },
  {
   "cell_type": "code",
   "execution_count": 96,
   "metadata": {},
   "outputs": [],
   "source": [
    "# načte BW obrázek\n",
    "bw = cv2.imread(\"in/{}.jpg\".format(actual_img), 0) # 0 protože chci černobílý obrázek (pro krok úprava)"
   ]
  },
  {
   "cell_type": "code",
   "execution_count": 97,
   "metadata": {},
   "outputs": [
    {
     "data": {
      "text/plain": [
       "True"
      ]
     },
     "execution_count": 97,
     "metadata": {},
     "output_type": "execute_result"
    }
   ],
   "source": [
    "# zamalování loga UP\n",
    "bw = cv2.rectangle(bw, (10000, 1211), (11800, 2100), (0), -1)\n",
    "bw = cv2.rectangle(bw, (0, 1100), (1200, 2800), (0), -1)\n",
    "\n",
    "# save\n",
    "cv2.imwrite(\"debug/1.BW/{}.png\".format(actual_img), bw)"
   ]
  },
  {
   "cell_type": "code",
   "execution_count": 98,
   "metadata": {},
   "outputs": [
    {
     "name": "stderr",
     "output_type": "stream",
     "text": [
      "100%|██████████| 11630/11630 [00:02<00:00, 4485.73it/s]\n"
     ]
    },
    {
     "data": {
      "image/png": "[encoded data removed]",
      "text/plain": [
       "<Figure size 432x288 with 1 Axes>"
      ]
     },
     "metadata": {
      "needs_background": "light"
     },
     "output_type": "display_data"
    }
   ],
   "source": [
    "# jedu sloupce (zvrch dolů), cut lft rgh\n",
    "suma_sloupec = np.array([])\n",
    "\n",
    "for sloupec in tqdm(range(len(bw[0]))):\n",
    "    suma_sloupec = np.append(suma_sloupec, np.sum(bw[:, sloupec]))\n",
    "# print(suma_sloupec)\n",
    "\n",
    "# plot\n",
    "plt.plot(suma_sloupec.get())\n",
    "plt.show()"
   ]
  },
  {
   "cell_type": "code",
   "execution_count": 99,
   "metadata": {},
   "outputs": [
    {
     "name": "stdout",
     "output_type": "stream",
     "text": [
      "261007.5\n"
     ]
    },
    {
     "name": "stderr",
     "output_type": "stream",
     "text": [
      "  4%|▍         | 51/1163 [00:03<01:17, 14.28it/s]"
     ]
    },
    {
     "name": "stdout",
     "output_type": "stream",
     "text": [
      "321 11120\n"
     ]
    },
    {
     "name": "stderr",
     "output_type": "stream",
     "text": [
      "\n"
     ]
    }
   ],
   "source": [
    "# find optimal cut\n",
    "med = np.median(suma_sloupec)\n",
    "med *= 1.25\n",
    "medlist = np.where(suma_sloupec < med)[0]\n",
    "print(med)\n",
    "ln = len(suma_sloupec)\n",
    "lnn = ln // 2\n",
    "\n",
    "h, w = bw.shape[:2]\n",
    "\n",
    "clft = medlist[0]\n",
    "crgh = medlist[-1]\n",
    "\n",
    "for x in tqdm(range(0, w, 10)):\n",
    "    tmp = numpy.array([])\n",
    "    for y in range(w//20):\n",
    "        if suma_sloupec[-y - x] <= med:\n",
    "            tmp = numpy.append(tmp, y)\n",
    "    if len(tmp) > w // 20 // 1.5:\n",
    "        crgh = w - x\n",
    "        break\n",
    "        \n",
    "\n",
    "# for a in range(lnn, ln):\n",
    "#     # print(a, suma_sloupec[a])\n",
    "#     if suma_sloupec[a] > med:\n",
    "#         crgh = a \n",
    "#         break\n",
    "# for a in range(0, lnn):\n",
    "#     # print(a)\n",
    "#     # print(a, suma_sloupec[a])\n",
    "#     if suma_sloupec[a] > med:\n",
    "#         clft = a \n",
    "#         # break\n",
    "\n",
    "print(clft, crgh)        \n",
    "# for md in medlist:\n",
    "#     md *= -1\n",
    "#     if suma_sloupec[md - 250] < med:\n",
    "#         crgh = (medlist[md])\n",
    "#         break\n",
    "#     if md == medlist[-1]:\n",
    "# crgh = medlist[-1]\n",
    "\n",
    "\n",
    "# for md in medlist:\n",
    "#     if suma_sloupec[md + 250] < med:\n",
    "#         clft = (medlist[md])\n",
    "#         break\n",
    "#     if md == medlist[-1]:\n",
    "# clft = medlist[0]    "
   ]
  },
  {
   "cell_type": "code",
   "execution_count": 100,
   "metadata": {},
   "outputs": [
    {
     "name": "stderr",
     "output_type": "stream",
     "text": [
      "100%|██████████| 8702/8702 [00:01<00:00, 6043.15it/s]\n"
     ]
    },
    {
     "data": {
      "image/png": "[encoded data removed]",
      "text/plain": [
       "<Figure size 432x288 with 1 Axes>"
      ]
     },
     "metadata": {
      "needs_background": "light"
     },
     "output_type": "display_data"
    }
   ],
   "source": [
    "# jedu řádky (zleva do prava)\n",
    "suma_radek = np.array([])\n",
    "\n",
    "for radek in tqdm(range(len(bw))):\n",
    "    suma_radek = np.append(suma_radek, np.sum(bw[radek]))\n",
    "# print(suma_radek)\n",
    "\n",
    "# plot\n",
    "range_radek = range(len(suma_radek))\n",
    "\n",
    "plt.plot(range_radek, suma_radek.get())\n",
    "plt.show()"
   ]
  },
  {
   "cell_type": "code",
   "execution_count": 101,
   "metadata": {},
   "outputs": [
    {
     "name": "stdout",
     "output_type": "stream",
     "text": [
      "176931.0\n",
      "1335 8053 321 11120\n"
     ]
    }
   ],
   "source": [
    "# find optimal cut\n",
    "med = np.median(suma_radek)\n",
    "med *= 2\n",
    "medlist = np.where(suma_radek < med)[0]\n",
    "print(med)\n",
    "ln = len(suma_radek)\n",
    "lnn = ln // 2\n",
    "\n",
    "\n",
    "ctop = medlist[0]\n",
    "cbot = medlist[-1]\n",
    "# for a in range(lnn, ln):\n",
    "#     # print(a, suma_radek[a])\n",
    "#     if suma_radek[a] > med:\n",
    "#         cbot = a \n",
    "#         break\n",
    "# for a in range(0, lnn):\n",
    "#     # print(a)\n",
    "#     # print(a, suma_radek[a])\n",
    "#     if suma_radek[a] > med:\n",
    "#         ctop = a \n",
    "#         # break\n",
    "\n",
    "# print(clft, crgh)    \n",
    "\n",
    "\n",
    "# # find optimal cut\n",
    "# med = np.median(suma_radek)\n",
    "# medlist = np.where(suma_radek < med)[0]\n",
    "\n",
    "# cbot = medlist[-1]\n",
    "\n",
    "# # for md in medlist:\n",
    "# #     if suma_radek[md - 250] < med:\n",
    "# #         cbot = (medlist[md])\n",
    "# #         break\n",
    "# #     if md == medlist[-1] * -1:\n",
    "# #         cbot = medlist[-1]\n",
    "\n",
    "\n",
    "# # for md in medlist:\n",
    "# #     if suma_radek[md + 250] < med:\n",
    "# #         ctop = (medlist[md])\n",
    "# #         break\n",
    "# #     if md == medlist[-1]:\n",
    "# ctop = medlist[0]\n",
    "# #         ctop = medlist[0]\n",
    "\n",
    "\n",
    "print(ctop, cbot, clft, crgh)"
   ]
  },
  {
   "cell_type": "code",
   "execution_count": 102,
   "metadata": {},
   "outputs": [
    {
     "name": "stdout",
     "output_type": "stream",
     "text": [
      "1335 8053 321 11120\n"
     ]
    },
    {
     "data": {
      "text/plain": [
       "True"
      ]
     },
     "execution_count": 102,
     "metadata": {},
     "output_type": "execute_result"
    }
   ],
   "source": [
    "# cropne obrázky podle předchozích kroků\n",
    "margin = 0\n",
    "crp = bw[int(ctop+margin) : int(cbot-margin), int(clft+margin) : int(crgh-margin)]\n",
    "print(ctop, cbot, clft, crgh)\n",
    "# print(crp)\n",
    "\n",
    "# print(crp)\n",
    "\n",
    "cv2.imwrite(\"debug/2.cropped/{}.png\".format(actual_img), crp)"
   ]
  },
  {
   "cell_type": "code",
   "execution_count": 103,
   "metadata": {},
   "outputs": [],
   "source": [
    "def find_otsu(img):\n",
    "    threshold, _ = cv2.threshold(img, 255, 255, cv2.THRESH_BINARY + cv2.THRESH_OTSU)   \n",
    "    return threshold"
   ]
  },
  {
   "cell_type": "code",
   "execution_count": 104,
   "metadata": {},
   "outputs": [],
   "source": [
    "otsus = []"
   ]
  },
  {
   "cell_type": "code",
   "execution_count": 105,
   "metadata": {},
   "outputs": [],
   "source": [
    "# první čtverec (napravo)\n",
    "temp = []\n",
    "h, w = crp.shape[:2]\n",
    "base_h = int(h // 2) # height\n",
    "base_w = int(w * 6 // 7) # width\n",
    "start = 100 # je poloviční\n",
    "\n",
    "def check_otsu_crop(value, thresh):\n",
    "    if value >= thresh:\n",
    "        value = thresh\n",
    "    return value\n",
    "\n",
    "\n",
    "for lp in range(4):\n",
    "    hst = (base_h - start)\n",
    "    hen = (base_h + start)\n",
    "    wst = (base_w - start)\n",
    "    wen = (base_w + start)\n",
    "\n",
    "    hst = check_otsu_crop(hst, h)\n",
    "    hen = check_otsu_crop(hen, h)\n",
    "    wst = check_otsu_crop(wst, w)\n",
    "    wen = check_otsu_crop(wen, w)\n",
    "\n",
    "    # print(hst , hen, wst , wen)\n",
    "    # print(start * lp)\n",
    "\n",
    "    otsu_crp = crp[hst : hen, wst : wen]\n",
    "    # print(otsu_crp)\n",
    "    start *= 2\n",
    "    # break\n",
    "    temp.append(find_otsu(otsu_crp))\n",
    "otsus.append(temp)\n"
   ]
  },
  {
   "cell_type": "code",
   "execution_count": 106,
   "metadata": {},
   "outputs": [],
   "source": [
    "# druhý čtverec (nalevo)\n",
    "temp = []\n",
    "h, w = crp.shape[:2]\n",
    "base_h = int(h // 2) # height\n",
    "base_w = int(w * 5 // 7) # width\n",
    "start = 100 # je poloviční\n",
    "\n",
    "def check_otsu_crop(value, thresh):\n",
    "    if value >= thresh:\n",
    "        value = thresh\n",
    "    return value\n",
    "\n",
    "\n",
    "for lp in range(4):\n",
    "    hst = (base_h - start)\n",
    "    hen = (base_h + start)\n",
    "    wst = (base_w - start)\n",
    "    wen = (base_w + start)\n",
    "\n",
    "    hst = check_otsu_crop(hst, h)\n",
    "    hen = check_otsu_crop(hen, h)\n",
    "    wst = check_otsu_crop(wst, w)\n",
    "    wen = check_otsu_crop(wen, w)\n",
    "\n",
    "    # print(hst , hen, wst , wen)\n",
    "    # print(start * lp)\n",
    "\n",
    "    otsu_crp = crp[hst : hen, wst : wen]\n",
    "    # print(otsu_crp)\n",
    "    start *= 2\n",
    "    # break\n",
    "    temp.append(find_otsu(otsu_crp))\n",
    "otsus.append(temp)\n"
   ]
  },
  {
   "cell_type": "code",
   "execution_count": 107,
   "metadata": {},
   "outputs": [],
   "source": [
    "# třetí čtverec (dole)\n",
    "temp = []\n",
    "h, w = crp.shape[:2]\n",
    "base_h = int(h * 3 // 4) # height\n",
    "base_w = int(w * 5.5 // 7) # width\n",
    "start = 100 # je poloviční\n",
    "\n",
    "def check_otsu_crop(value, thresh):\n",
    "    if value >= thresh:\n",
    "        value = thresh\n",
    "    return value\n",
    "\n",
    "\n",
    "for lp in range(4):\n",
    "    hst = (base_h - start)\n",
    "    hen = (base_h + start)\n",
    "    wst = (base_w - start)\n",
    "    wen = (base_w + start)\n",
    "\n",
    "    hst = check_otsu_crop(hst, h)\n",
    "    hen = check_otsu_crop(hen, h)\n",
    "    wst = check_otsu_crop(wst, w)\n",
    "    wen = check_otsu_crop(wen, w)\n",
    "\n",
    "    # print(hst , hen, wst , wen)\n",
    "    # print(start * lp)\n",
    "\n",
    "    otsu_crp = crp[hst : hen, wst : wen]\n",
    "    # print(otsu_crp)\n",
    "    start *= 2\n",
    "    # break\n",
    "    temp.append(find_otsu(otsu_crp))\n",
    "otsus.append(temp)\n"
   ]
  },
  {
   "cell_type": "code",
   "execution_count": 108,
   "metadata": {},
   "outputs": [],
   "source": [
    "# čtvrtý čtverec(nahořš)\n",
    "temp = []\n",
    "h, w = crp.shape[:2]\n",
    "base_h = int(h * 1 // 4) # height\n",
    "base_w = int(w * 5.5 // 7) # width\n",
    "start = 100 # je poloviční\n",
    "\n",
    "def check_otsu_crop(value, thresh):\n",
    "    if value >= thresh:\n",
    "        value = thresh\n",
    "    return value\n",
    "\n",
    "\n",
    "for lp in range(4):\n",
    "    hst = (base_h - start)\n",
    "    hen = (base_h + start)\n",
    "    wst = (base_w - start)\n",
    "    wen = (base_w + start)\n",
    "\n",
    "    hst = check_otsu_crop(hst, h)\n",
    "    hen = check_otsu_crop(hen, h)\n",
    "    wst = check_otsu_crop(wst, w)\n",
    "    wen = check_otsu_crop(wen, w)\n",
    "\n",
    "    # print(hst , hen, wst , wen)\n",
    "    # print(start * lp)\n",
    "\n",
    "    otsu_crp = crp[hst : hen, wst : wen]\n",
    "    # print(otsu_crp)\n",
    "    start *= 2\n",
    "    # break\n",
    "\n",
    "    temp.append(find_otsu(otsu_crp))\n",
    "otsus.append(temp)\n"
   ]
  },
  {
   "cell_type": "code",
   "execution_count": 109,
   "metadata": {},
   "outputs": [
    {
     "name": "stdout",
     "output_type": "stream",
     "text": [
      "[[23. 22. 22. 23.]\n",
      " [23. 37. 35. 32.]\n",
      " [ 2.  2.  3.  3.]\n",
      " [10. 11. 13. 10.]]\n",
      "37.0\n"
     ]
    },
    {
     "data": {
      "text/plain": [
       "True"
      ]
     },
     "execution_count": 109,
     "metadata": {},
     "output_type": "execute_result"
    }
   ],
   "source": [
    "# threshold\n",
    "otsus = np.array(otsus)\n",
    "otsus.max()\n",
    "print(otsus)\n",
    "print(otsus.max())\n",
    "_, th_otsu = cv2.threshold(crp, int(otsus.max()), 255, cv2.THRESH_BINARY)\n",
    "cv2.imwrite(\"debug/3.Otsu/{}.png\".format(actual_img), th_otsu)"
   ]
  },
  {
   "cell_type": "code",
   "execution_count": 110,
   "metadata": {},
   "outputs": [],
   "source": [
    "th_otsu = np.uint8(th_otsu)"
   ]
  },
  {
   "cell_type": "code",
   "execution_count": 111,
   "metadata": {},
   "outputs": [],
   "source": [
    "# kontury\n",
    "# print(th_otsu)\n",
    "raw_cnts = cv2.findContours(th_otsu, cv2.RETR_LIST, cv2.CHAIN_APPROX_NONE)\n",
    "# print(raw_cnts)"
   ]
  },
  {
   "cell_type": "code",
   "execution_count": 112,
   "metadata": {},
   "outputs": [],
   "source": [
    "def filtrAreaDumb(raw_cnts, thresh):\n",
    "    out = []\n",
    "    for cnt in raw_cnts[0]:\n",
    "        # print(cnt)\n",
    "        area = cv2.contourArea(cnt)\n",
    "        if area > thresh:   \n",
    "            out.append(cnt)\n",
    "    # print(out)\n",
    "    return out"
   ]
  },
  {
   "cell_type": "code",
   "execution_count": 113,
   "metadata": {},
   "outputs": [],
   "source": [
    "def filtrAreaSmart (cnts):\n",
    "    thresh = 10\n",
    "    numbr = 100\n",
    "    while True:\n",
    "        temp = filtrAreaDumb(cnts, thresh)\n",
    "        thresh += 10\n",
    "        if len(temp) < numbr:\n",
    "            return temp"
   ]
  },
  {
   "cell_type": "code",
   "execution_count": 114,
   "metadata": {},
   "outputs": [],
   "source": [
    "area_cnts = filtrAreaSmart(raw_cnts)"
   ]
  },
  {
   "cell_type": "code",
   "execution_count": 115,
   "metadata": {},
   "outputs": [
    {
     "data": {
      "text/plain": [
       "True"
      ]
     },
     "execution_count": 115,
     "metadata": {},
     "output_type": "execute_result"
    }
   ],
   "source": [
    "orig = cv2.imread(\"in/{}.jpg\".format(actual_img)).astype(\"float64\")\n",
    "\n",
    "orig = orig[int(ctop+margin) : int(cbot-margin), int(clft+margin) : int(crgh-margin)]\n",
    "\n",
    "# zamalování loga UP\n",
    "orig = cv2.rectangle(orig, (10000, 1211), (11800, 1930), (0), -1)\n",
    "orig = cv2.rectangle(orig, (0, 1100), (860, 2700), (0), -1)\n",
    "# print(orig)\n",
    "\n",
    "# modře ty, co jsou vyfiltrovaný ven\n",
    "# orig = cv2.drawContours(orig, filtrAreaDumb(raw_cnts, 0), -1, (255, 0, 0), 10)\n",
    "orig = cv2.drawContours(orig, raw_cnts[0], -1, (255, 0, 0), 10)\n",
    "# červeně co zůstaly\n",
    "orig = cv2.drawContours(orig, area_cnts, -1, (0, 0, 255), 20)\n",
    "\n",
    "cv2.imwrite(\"debug/4.area_filtr/{}.png\".format(actual_img), orig)"
   ]
  }
 ],
 "metadata": {
  "kernelspec": {
   "display_name": "Python 3.9.6 64-bit",
   "language": "python",
   "name": "python3"
  },
  "language_info": {
   "codemirror_mode": {
    "name": "ipython",
    "version": 3
   },
   "file_extension": ".py",
   "mimetype": "text/x-python",
   "name": "python",
   "nbconvert_exporter": "python",
   "pygments_lexer": "ipython3",
   "version": "3.9.6"
  },
  "orig_nbformat": 4,
  "vscode": {
   "interpreter": {
    "hash": "81794d4967e6c3204c66dcd87b604927b115b27c00565d3d43f05ba2f3a2cb0d"
   }
  }
 },
 "nbformat": 4,
 "nbformat_minor": 2
}

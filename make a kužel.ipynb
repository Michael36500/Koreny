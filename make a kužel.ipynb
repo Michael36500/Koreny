{
 "cells": [
  {
   "cell_type": "code",
   "execution_count": 1,
   "metadata": {},
   "outputs": [],
   "source": [
    "from matplotlib import pyplot as plt\n",
    "h = 100"
   ]
  },
  {
   "cell_type": "code",
   "execution_count": 2,
   "metadata": {},
   "outputs": [],
   "source": [
    "def posun_kuzel(kuzel, sklon):\n",
    "    if sklon < 0:\n",
    "        posun = min(kuzel)\n",
    "    else:\n",
    "        posun = max(kuzel)\n",
    "    \n",
    "    for x in range(len(kuzel)):\n",
    "        kuzel[x] += posun\n",
    "    return kuzel\n"
   ]
  },
  {
   "cell_type": "code",
   "execution_count": 3,
   "metadata": {},
   "outputs": [],
   "source": [
    "def make_kuzel(sklon, h):\n",
    "    pole_out = [0] * h\n",
    "    zlom = int(h / 2)\n",
    "    lpnb = zlom * sklon\n",
    "    for x in range(len(pole_out)):\n",
    "        if x > zlom:\n",
    "            lpnb += sklon\n",
    "        else:\n",
    "            lpnb -= sklon\n",
    "            \n",
    "        pole_out[x] = lpnb\n",
    "    # pole_out = posun_kuzel(pole_out, sklon)\n",
    "    return pole_out"
   ]
  },
  {
   "cell_type": "code",
   "execution_count": 4,
   "metadata": {},
   "outputs": [
    {
     "data": {
      "text/plain": [
       "<matplotlib.collections.PathCollection at 0x2a4d87424f0>"
      ]
     },
     "execution_count": 4,
     "metadata": {},
     "output_type": "execute_result"
    },
    {
     "data": {
      "image/png": "[encoded data removed]",
      "text/plain": [
       "<Figure size 432x288 with 1 Axes>"
      ]
     },
     "metadata": {
      "needs_background": "light"
     },
     "output_type": "display_data"
    }
   ],
   "source": [
    "pole_out = make_kuzel(-1, h)\n",
    "plt.scatter(pole_out, range(len(pole_out)))"
   ]
  },
  {
   "cell_type": "code",
   "execution_count": null,
   "metadata": {},
   "outputs": [],
   "source": []
  }
 ],
 "metadata": {
  "kernelspec": {
   "display_name": "Python 3",
   "language": "python",
   "name": "python3"
  },
  "language_info": {
   "codemirror_mode": {
    "name": "ipython",
    "version": 3
   },
   "file_extension": ".py",
   "mimetype": "text/x-python",
   "name": "python",
   "nbconvert_exporter": "python",
   "pygments_lexer": "ipython3",
   "version": "3.9.6 (tags/v3.9.6:db3ff76, Jun 28 2021, 15:26:21) [MSC v.1929 64 bit (AMD64)]"
  },
  "orig_nbformat": 4,
  "vscode": {
   "interpreter": {
    "hash": "81794d4967e6c3204c66dcd87b604927b115b27c00565d3d43f05ba2f3a2cb0d"
   }
  }
 },
 "nbformat": 4,
 "nbformat_minor": 2
}

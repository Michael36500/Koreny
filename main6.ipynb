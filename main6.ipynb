{
 "cells": [
  {
   "cell_type": "code",
   "execution_count": 1,
   "metadata": {},
   "outputs": [],
   "source": [
    "import cv2\n",
    "import numpy as np\n",
    "import os\n",
    "from matplotlib import pyplot as plt\n",
    "from tqdm import tqdm\n",
    "import time"
   ]
  },
  {
   "cell_type": "code",
   "execution_count": 2,
   "metadata": {},
   "outputs": [],
   "source": [
    "def crop (in_img):\n",
    "    # import cv2\n",
    "    zmensene = False #!!! můžou fungovat lépe aneb když programátor nepřizná, že mu to prostě nefunguje\n",
    "    if zmensene == True:\n",
    "        cropped = in_img\n",
    "        # cropped = cv2.resize(source, (800, 600))                     # POZOR, ROZMĚRY SE NEPOČÍTAJÍ\n",
    "        # cropped = cropped[100 : 540, 70 : 700]        #crop malých, mnou zmenšeny\n",
    "    else:\n",
    "        # cropped = source[1480 : 8000, 410 : right]        #crop velkých, originálů\n",
    "        cropped = in_img[1480 : 8000, 410 : 10200]        #crop velkých, originálů\n",
    "\n",
    "        # zamalování loga UP\n",
    "        cropped = cv2.rectangle(cropped, (8800, 0), (10290, 1409), (0, 0, 0), -1)\n",
    "        cropped = cv2.rectangle(cropped, (0, 0), (1409, 1409), (0, 0, 0), -1)\n",
    "    # cropped = source\n",
    "\n",
    "    return cropped"
   ]
  },
  {
   "cell_type": "code",
   "execution_count": 3,
   "metadata": {},
   "outputs": [],
   "source": [
    "def bake(bake_img, hard = None):\n",
    "    # global bake_img\n",
    "    if hard == True:\n",
    "        cv2.imwrite(\"temp.png\", bake_img)\n",
    "        return cv2.imread(\"temp.png\")\n",
    "    else:\n",
    "        return bake_img.astype(np.uint8)"
   ]
  },
  {
   "cell_type": "code",
   "execution_count": 4,
   "metadata": {},
   "outputs": [
    {
     "data": {
      "text/plain": [
       "0"
      ]
     },
     "execution_count": 4,
     "metadata": {},
     "output_type": "execute_result"
    }
   ],
   "source": [
    "show_imgs = False\n",
    "os.system('cls')"
   ]
  },
  {
   "cell_type": "code",
   "execution_count": 5,
   "metadata": {},
   "outputs": [],
   "source": [
    "# najde všechny soubory v IN složce, aby se mohl loopnout\n",
    "inputs_jpg = os.listdir(\"in/\")\n",
    "inputs = []\n",
    "for a in inputs_jpg:\n",
    "    l = len(a)\n",
    "    short = a[:l - 4]\n",
    "    inputs.append(short)\n",
    "# vynechávám img_num, protože ho nepotřebuji\n",
    "if show_imgs == True:\n",
    "    cv2.namedWindow(\"win\", cv2.WINDOW_AUTOSIZE)"
   ]
  },
  {
   "cell_type": "markdown",
   "metadata": {},
   "source": [
    "# Další by mělo být v for inputs\n",
    "ale protože jupyter(a rozhodně ne že já ho neumím): neloopuju se, ale jedu jenom 1 obrázek"
   ]
  },
  {
   "cell_type": "code",
   "execution_count": 6,
   "metadata": {},
   "outputs": [],
   "source": [
    "# actual_img = \"2022_02_23_12_45_14\"   \n",
    "actual_img = \"2022_02_25_10_57_13\""
   ]
  },
  {
   "cell_type": "code",
   "execution_count": 7,
   "metadata": {},
   "outputs": [],
   "source": [
    "# načte BW obrázek\n",
    "bw = cv2.imread(\"in/{}.jpg\".format(actual_img), 0).astype(\"float64\") # 0 protože chci černobílý obrázek (pro krok úprava)\n",
    "# bw = cv2.cvtColor(source, cv2.COLOR_RGB2GRAY)\n",
    "\n",
    "# zamalování loga UP\n",
    "bw = cv2.rectangle(bw, (10000, 1211), (11800, 1930), (0), -1)\n",
    "bw = cv2.rectangle(bw, (0, 1100), (860, 2700), (0), -1)\n",
    "\n",
    "cv2.imwrite(\"debug/1.BW/{}.png\".format(actual_img), bw)\n",
    "\n",
    "if show_imgs == True:\n",
    "    frame = cv2.resize(bw, (979, 652))\n",
    "    cv2.imshow('win', frame)\n",
    "    cv2.waitKey(200) "
   ]
  },
  {
   "cell_type": "code",
   "execution_count": 8,
   "metadata": {},
   "outputs": [],
   "source": [
    "def thresholdit (source, times):\n",
    "    suma = 0\n",
    "    h, w = source.shape[:2]\n",
    "\n",
    "    for a in source:\n",
    "        for b in a:\n",
    "            suma = suma + b\n",
    "    avg = suma / (h*w)\n",
    "\n",
    "    much = avg * times\n",
    "\n",
    "    _, th = cv2.threshold(source, much, 255, cv2.THRESH_BINARY)\n",
    "    return th"
   ]
  },
  {
   "cell_type": "code",
   "execution_count": 9,
   "metadata": {},
   "outputs": [
    {
     "name": "stderr",
     "output_type": "stream",
     "text": [
      "100%|██████████| 8702/8702 [02:26<00:00, 59.58it/s]\n"
     ]
    },
    {
     "data": {
      "image/png": "[encoded data removed]",
      "text/plain": [
       "<Figure size 432x288 with 1 Axes>"
      ]
     },
     "metadata": {
      "needs_background": "light"
     },
     "output_type": "display_data"
    },
    {
     "name": "stdout",
     "output_type": "stream",
     "text": [
      "324101.0 1349\n",
      "352777.0 8103\n"
     ]
    }
   ],
   "source": [
    "# sečte řádky, cropne\n",
    "# mám 8702 řádků, a v nich  11630 sloupců\n",
    "# ŘÁDKY - spočítám první součet, potom najdu údolí\n",
    "\n",
    "suma_radek = []\n",
    "\n",
    "# sečtu řádky\n",
    "for radek in tqdm(bw):\n",
    "    suma = 0\n",
    "    for num in radek:\n",
    "        suma += num\n",
    "    suma_radek.append(suma)\n",
    "\n",
    "# najdu si výšku obrázku\n",
    "h, w = bw.shape[:2]\n",
    "range_radku = range(h)\n",
    "\n",
    "\n",
    "# plotnu to\n",
    "plt.plot(range_radku, suma_radek)\n",
    "plt.show()\n",
    "\n",
    "\n",
    "# NAJDU CROP zvrchu a zespodu\n",
    "\n",
    "\n",
    "# idea zatímhle je, že sopočítám průměr, a když je toto pod průměrem, \n",
    "average = 0\n",
    "lpnb = 0\n",
    "\n",
    "\n",
    "# for num in suma_radek:\n",
    "#     lpnb += 1\n",
    "#     average += num\n",
    "# average /= lpnb\n",
    "# print(average)\n",
    "average = 350000\n",
    "\n",
    "lpnb = 0\n",
    "inside = False\n",
    "for suma in suma_radek:\n",
    "    lpnb += 1\n",
    "    if suma < average and inside == False:\n",
    "        inside = not inside\n",
    "        ctop = lpnb\n",
    "        print(suma, lpnb)\n",
    "    if suma > average and inside == True:\n",
    "        cbot = lpnb\n",
    "        inside = not inside\n",
    "        print(suma, lpnb)"
   ]
  },
  {
   "cell_type": "code",
   "execution_count": 10,
   "metadata": {},
   "outputs": [
    {
     "name": "stderr",
     "output_type": "stream",
     "text": [
      "100%|██████████| 11630/11630 [04:03<00:00, 47.68it/s]\n"
     ]
    },
    {
     "data": {
      "image/png": "[encoded data removed]",
      "text/plain": [
       "<Figure size 432x288 with 1 Axes>"
      ]
     },
     "metadata": {
      "needs_background": "light"
     },
     "output_type": "display_data"
    },
    {
     "name": "stdout",
     "output_type": "stream",
     "text": [
      "324101.0 1349\n",
      "352777.0 8103\n"
     ]
    }
   ],
   "source": [
    "# # sečte sloupce, cropne\n",
    "# mám 8702 řádků, a v nich  11630 sloupců\n",
    "# SLOUPCE\n",
    "suma_sloupce = []\n",
    "\n",
    "h, w = bw.shape[:2]\n",
    "range_sloupce = range(w)\n",
    "\n",
    "for sloupec in tqdm(range(w)):\n",
    "    # print(sloupec)\n",
    "    suma = 0\n",
    "    for radek in range(h):\n",
    "        suma += bw[radek, sloupec]\n",
    "    suma_sloupce.append(suma)\n",
    "    \n",
    "\n",
    "# Function to plot\n",
    "\n",
    "\n",
    "plt.plot(range_sloupce, suma_sloupce)\n",
    "plt.show()\n",
    "\n",
    "\n",
    "\n",
    "average = 0\n",
    "lpnb = 0\n",
    "\n",
    "average = 350000\n",
    "\n",
    "lpnb = 0\n",
    "inside = False\n",
    "for suma in suma_radek:\n",
    "    lpnb += 1\n",
    "    if suma < average and inside == False:\n",
    "        inside = not inside\n",
    "        ctop = lpnb\n",
    "        print(suma, lpnb)\n",
    "    if suma > average and inside == True:\n",
    "        cbot = lpnb\n",
    "        inside = not inside\n",
    "        print(suma, lpnb)"
   ]
  },
  {
   "cell_type": "code",
   "execution_count": 11,
   "metadata": {},
   "outputs": [
    {
     "name": "stdout",
     "output_type": "stream",
     "text": [
      "349519.0 299\n",
      "352660.0 10961\n",
      "349076.0 10962\n",
      "351449.0 10967\n",
      "\n",
      "299 10967\n"
     ]
    }
   ],
   "source": [
    "# najde left a right crop obrázku na černou\n",
    "\n",
    "\n",
    "average = 0\n",
    "lpnb = 0\n",
    "\n",
    "# for num in suma_sloupce:\n",
    "#     lpnb += 1\n",
    "#     average += num\n",
    "# average /= lpnb\n",
    "# print(average)\n",
    "average = 350000\n",
    "\n",
    "lpnb = 0\n",
    "inside = False\n",
    "temps = []\n",
    "\n",
    "for suma in suma_sloupce:\n",
    "    lpnb += 1\n",
    "    if suma < average and inside == False:\n",
    "        inside = not inside\n",
    "        # cleft = lpnb\n",
    "        temps.append(lpnb)\n",
    "        print(suma, lpnb)\n",
    "    if suma > average and inside == True:\n",
    "        inside = not inside\n",
    "        # crig = lpnb\n",
    "        temps.append(lpnb)\n",
    "        print(suma, lpnb)\n",
    "print()\n",
    "crig = max(temps) \n",
    "cleft = min(temps) \n",
    "\n",
    "print(cleft, crig)\n"
   ]
  },
  {
   "cell_type": "code",
   "execution_count": 12,
   "metadata": {},
   "outputs": [
    {
     "name": "stdout",
     "output_type": "stream",
     "text": [
      "[[ 0.  0.  0. ...  0.  0.  0.]\n",
      " [ 0.  0.  0. ...  0.  0.  0.]\n",
      " [ 0.  0.  0. ...  0.  0.  0.]\n",
      " ...\n",
      " [66. 67. 68. ... 39. 44. 48.]\n",
      " [64. 66. 67. ... 40. 45. 48.]\n",
      " [64. 66. 67. ... 42. 45. 48.]]\n"
     ]
    },
    {
     "data": {
      "text/plain": [
       "True"
      ]
     },
     "execution_count": 12,
     "metadata": {},
     "output_type": "execute_result"
    }
   ],
   "source": [
    "# cropne obrázky podle předchozích kroků\n",
    "margin = 40\n",
    "crp = bw[int(ctop+margin) : int(cbot-margin), int(cleft+margin) : int(crig-margin)]\n",
    "\n",
    "print(crp)\n",
    "\n",
    "cv2.imwrite(\"debug/2.cropped/{}.png\".format(actual_img), crp)"
   ]
  },
  {
   "cell_type": "code",
   "execution_count": 13,
   "metadata": {},
   "outputs": [
    {
     "ename": "SyntaxError",
     "evalue": "invalid syntax (<ipython-input-13-d08bbcfe7089>, line 3)",
     "output_type": "error",
     "traceback": [
      "\u001b[1;36m  File \u001b[1;32m\"<ipython-input-13-d08bbcfe7089>\"\u001b[1;36m, line \u001b[1;32m3\u001b[0m\n\u001b[1;33m    crp_otsu = crp []\u001b[0m\n\u001b[1;37m                    ^\u001b[0m\n\u001b[1;31mSyntaxError\u001b[0m\u001b[1;31m:\u001b[0m invalid syntax\n"
     ]
    }
   ],
   "source": [
    "# cropne crp pro aplikování otsuovy metody\n",
    "\n",
    "crp_otsu = crp []"
   ]
  }
 ],
 "metadata": {
  "interpreter": {
   "hash": "19360f72d7b5ed928357ab8d7fca68457a11af31053da30ce734c3576e2a051a"
  },
  "kernelspec": {
   "display_name": "Python 3.6.6 64-bit",
   "language": "python",
   "name": "python3"
  },
  "language_info": {
   "codemirror_mode": {
    "name": "ipython",
    "version": 3
   },
   "file_extension": ".py",
   "mimetype": "text/x-python",
   "name": "python",
   "nbconvert_exporter": "python",
   "pygments_lexer": "ipython3",
   "version": "3.6.6"
  },
  "orig_nbformat": 4,
  "vscode": {
   "interpreter": {
    "hash": "3335a83993a6703cb242ed4a8716e9cf456a38904cc2762c172369d24a8e1029"
   }
  }
 },
 "nbformat": 4,
 "nbformat_minor": 2
}
